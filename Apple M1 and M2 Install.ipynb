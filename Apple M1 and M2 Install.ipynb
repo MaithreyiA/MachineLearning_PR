{
 "cells": [
  {
   "cell_type": "markdown",
   "id": "50f6c544",
   "metadata": {},
   "source": [
    "Installed according to https://developer.apple.com/metal/tensorflow-plugin/:\n",
    "\n",
    "\n",
    "`conda create --name mlenv2023 python=3.8`\n",
    "\n",
    "`conda activate mlenv2023`\n",
    "\n",
    "`python -m pip install tensorflow-macos`\n",
    "\n",
    "`python -m pip install tensorflow-metal`\n",
    "\n",
    "`pip install jupyter`\n",
    "\n",
    "`pip install pandas`\n",
    "\n",
    "`pip install matplotlib`\n",
    "\n",
    "`pip install missingno`\n",
    "\n",
    "`pip install scikit-learn`\n",
    "\n",
    "`pip install plotly`"
   ]
  },
  {
   "cell_type": "code",
   "execution_count": 1,
   "id": "6b8863c5",
   "metadata": {},
   "outputs": [
    {
     "name": "stdout",
     "output_type": "stream",
     "text": [
      "Downloading data from https://www.cs.toronto.edu/~kriz/cifar-100-python.tar.gz\n",
      "169001437/169001437 [==============================] - 9s 0us/step\n",
      "Metal device set to: Apple M2\n",
      "Epoch 1/5\n"
     ]
    },
    {
     "name": "stderr",
     "output_type": "stream",
     "text": [
      "2023-05-12 15:37:49.747932: W tensorflow/tsl/platform/profile_utils/cpu_utils.cc:128] Failed to get CPU frequency: 0 Hz\n",
      "/Users/eclarson/miniconda3/envs/mlenv2023/lib/python3.8/site-packages/keras/backend.py:5612: UserWarning: \"`sparse_categorical_crossentropy` received `from_logits=True`, but the `output` argument was produced by a Softmax activation and thus does not represent logits. Was this intended?\n",
      "  output, from_logits = _get_logits(\n"
     ]
    },
    {
     "name": "stdout",
     "output_type": "stream",
     "text": [
      "782/782 [==============================] - 91s 102ms/step - loss: 4.6834 - accuracy: 0.0827\n",
      "Epoch 2/5\n",
      "782/782 [==============================] - 78s 99ms/step - loss: 3.9959 - accuracy: 0.1464\n",
      "Epoch 3/5\n",
      "782/782 [==============================] - 78s 99ms/step - loss: 3.7214 - accuracy: 0.1749\n",
      "Epoch 4/5\n",
      "782/782 [==============================] - 91s 117ms/step - loss: 3.5406 - accuracy: 0.2101\n",
      "Epoch 5/5\n",
      "782/782 [==============================] - 89s 114ms/step - loss: 3.4715 - accuracy: 0.2279\n"
     ]
    },
    {
     "data": {
      "text/plain": [
       "<keras.callbacks.History at 0x29d8ebe50>"
      ]
     },
     "execution_count": 1,
     "metadata": {},
     "output_type": "execute_result"
    }
   ],
   "source": [
    "# check from https://developer.apple.com/metal/tensorflow-plugin/\n",
    "import tensorflow as tf\n",
    "\n",
    "cifar = tf.keras.datasets.cifar100\n",
    "(x_train, y_train), (x_test, y_test) = cifar.load_data()\n",
    "model = tf.keras.applications.ResNet50(\n",
    "    include_top=True,\n",
    "    weights=None,\n",
    "    input_shape=(32, 32, 3),\n",
    "    classes=100,)\n",
    "\n",
    "loss_fn = tf.keras.losses.SparseCategoricalCrossentropy(from_logits=True)\n",
    "model.compile(optimizer=\"adam\", loss=loss_fn, metrics=[\"accuracy\"])\n",
    "model.fit(x_train, y_train, epochs=5, batch_size=64)"
   ]
  },
  {
   "cell_type": "code",
   "execution_count": null,
   "id": "ac462519",
   "metadata": {},
   "outputs": [],
   "source": []
  }
 ],
 "metadata": {
  "kernelspec": {
   "display_name": "Python 3 (ipykernel)",
   "language": "python",
   "name": "python3"
  },
  "language_info": {
   "codemirror_mode": {
    "name": "ipython",
    "version": 3
   },
   "file_extension": ".py",
   "mimetype": "text/x-python",
   "name": "python",
   "nbconvert_exporter": "python",
   "pygments_lexer": "ipython3",
   "version": "3.8.16"
  }
 },
 "nbformat": 4,
 "nbformat_minor": 5
}
